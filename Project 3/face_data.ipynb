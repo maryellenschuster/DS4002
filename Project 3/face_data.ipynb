{
 "cells": [
  {
   "cell_type": "code",
   "execution_count": null,
   "metadata": {},
   "outputs": [],
   "source": [
    "#Load the dataset\n",
    "\n",
    "import tensorflow as tf\n",
    "\n",
    "train_dataset = tf.keras.utils.image_dataset_from_directory(\n",
    "    'images/train/',\n",
    "    image_size=(256, 256),\n",
    "    batch_size=32,\n",
    "    label_mode='categorical')\n",
    "\n",
    "validation_dataset = tf.keras.utils.image_dataset_from_directory(\n",
    "    'images/validation/',\n",
    "    image_size=(256, 256),\n",
    "    batch_size=32,\n",
    "    label_mode='categorical')\n"
   ]
  }
 ],
 "metadata": {
  "language_info": {
   "name": "python"
  }
 },
 "nbformat": 4,
 "nbformat_minor": 2
}
