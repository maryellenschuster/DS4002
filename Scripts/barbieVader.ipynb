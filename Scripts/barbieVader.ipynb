{
 "cells": [
  {
   "cell_type": "code",
   "execution_count": null,
   "metadata": {},
   "outputs": [],
   "source": [
    "barbie_data = pd.read_csv('barbie_data.csv')"
   ]
  },
  {
   "cell_type": "code",
   "execution_count": null,
   "metadata": {},
   "outputs": [],
   "source": [
    "#get vader scores \n",
    "import nltk\n",
    "nltk.data.path.append('/Users/maryellenschuster/nltk_data')\n",
    "from nltk.sentiment.vader import SentimentIntensityAnalyzer\n",
    "import pandas as pd\n",
    "\n",
    "barbie_data['vader_scores'] = barbie_data['text'].apply(lambda x: SentimentIntensityAnalyzer().polarity_scores(x)['compound'])\n",
    "barbie_data"
   ]
  },
  {
   "cell_type": "code",
   "execution_count": null,
   "metadata": {},
   "outputs": [],
   "source": [
    "#convert vader scores to numeric \n",
    "barbie_data['vader_scores'] = pd.to_numeric(barbie_data['vader_scores'])\n",
    "barbie_data['rating'] = pd.to_numeric(barbie_data['rating'])"
   ]
  },
  {
   "cell_type": "code",
   "execution_count": null,
   "metadata": {},
   "outputs": [],
   "source": [
    "#Plot sentiment scores overtime\n",
    "\n",
    "df = pd.DataFrame(barbie_data)\n",
    "df['full_date'] = pd.to_datetime(df['full_date'])  # Convert date column to datetime format\n",
    "\n",
    "# Plot sentiment scores over time\n",
    "plt.figure(figsize=(10, 6))\n",
    "plt.plot(df['full_date'], df['vader_scores'], marker='o', color='b', linestyle='-')\n",
    "\n",
    "plt.title('Sentiment Scores Over Time')\n",
    "plt.xlabel('Date')\n",
    "plt.ylabel('Sentiment Score')\n",
    "plt.xticks(rotation=45)  # Rotate x-axis labels for better readability\n",
    "plt.grid(True)\n",
    "plt.tight_layout()\n",
    "plt.show()"
   ]
  },
  {
   "cell_type": "code",
   "execution_count": null,
   "metadata": {},
   "outputs": [],
   "source": [
    "#distribution of sentiment scores \n",
    "import matplotlib.pyplot as plt\n",
    "\n",
    "sentiment_scores = barbie_data['vader_scores']\n",
    "\n",
    "# Plotting the distribution of sentiment scores\n",
    "plt.figure(figsize=(8, 6))\n",
    "plt.hist(sentiment_scores, bins=10, color='skyblue', edgecolor='black')  # Adjust the number of bins as needed\n",
    "plt.title('Distribution of Sentiment Scores')\n",
    "plt.xlabel('Sentiment Score')\n",
    "plt.ylabel('Frequency')\n",
    "plt.grid(axis='y', alpha=0.5)\n",
    "plt.show()"
   ]
  },
  {
   "cell_type": "code",
   "execution_count": null,
   "metadata": {},
   "outputs": [],
   "source": [
    "# Check if there are any missing values and handle them if necessary\n",
    "barbie_data.dropna(inplace=True)\n",
    "\n",
    "# Create a scatter plot to visualize the relationship\n",
    "plt.figure(figsize=(8, 6))\n",
    "sns.scatterplot(x='vader_scores', y='rating', data=barbie_data)\n",
    "plt.title('Correlation between VADER Sentiment Scores and Ratings')\n",
    "plt.xlabel('VADER Sentiment Score')\n",
    "plt.ylabel('Rating')\n",
    "plt.grid(True)\n",
    "\n",
    "# Calculate the correlation coefficient\n",
    "correlation_coefficient = barbie_data['vader_scores'].corr(barbie_data['rating'])\n",
    "print(f\"Correlation Coefficient: {correlation_coefficient}\")\n",
    "\n",
    "plt.show()"
   ]
  },
  {
   "cell_type": "code",
   "execution_count": null,
   "metadata": {},
   "outputs": [],
   "source": []
  }
 ],
 "metadata": {
  "language_info": {
   "name": "python"
  }
 },
 "nbformat": 4,
 "nbformat_minor": 2
}
