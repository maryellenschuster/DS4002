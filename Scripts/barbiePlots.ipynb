{
 "cells": [
  {
   "cell_type": "code",
   "execution_count": null,
   "metadata": {},
   "outputs": [],
   "source": [
    "barbie_data = pd.read_csv('barbie_data.csv')\n"
   ]
  },
  {
   "cell_type": "code",
   "execution_count": null,
   "metadata": {},
   "outputs": [],
   "source": [
    "##distribution of review lengths by ratings \n",
    "import pandas as pd\n",
    "import matplotlib.pyplot as plt\n",
    "import seaborn as sns\n",
    "\n",
    "df = pd.DataFrame(barbie_data)\n",
    "\n",
    "#compute length of each review\n",
    "df['review_length'] = df['text'].apply(len)\n",
    "\n",
    "# establish color for each rating \n",
    "colors = {1: 'darksalmon', 2: 'firebrick', 3: 'darkorange', 4: 'gold', 5: 'lemonchiffon', 6: 'darkseagreen', 7:'seagreen', 8: 'lightblue', 9: 'steelblue'}\n",
    "\n",
    "\n",
    "plt.figure(figsize=(10, 6))\n",
    "#create seperate histogram for each rating subsetted by review length  \n",
    "for rating in sorted(df['rating'].unique()):\n",
    "    subset = df[df['rating'] == rating]\n",
    "    plt.hist(subset['review_length'], bins=20, alpha=0.5, label=f'Rating {rating}', color=colors[rating])\n",
    "\n",
    "plt.xlabel('Review Length')\n",
    "plt.ylabel('Frequency')\n",
    "plt.title('Distribution of Review Lengths by Ratings')\n",
    "plt.legend()\n",
    "plt.grid(True)\n",
    "plt.xscale('log')\n",
    "plt.show()\n"
   ]
  },
  {
   "cell_type": "code",
   "execution_count": null,
   "metadata": {},
   "outputs": [],
   "source": [
    "## Distribution of review lengths\n",
    "ratings_data = barbie_data['rating']\n",
    "\n",
    "# Create a pandas DataFrame\n",
    "df = pd.DataFrame({'ratings': ratings_data})\n",
    "\n",
    "# Create a histogram using Seaborn\n",
    "sns.set(style=\"whitegrid\")  # Set the style\n",
    "sns.histplot(df['ratings'], kde=True, bins=10, color='skyblue')  # Create the distribution plot\n",
    "plt.title('Distribution Plot of Ratings')  # Add title\n",
    "plt.xlabel('Ratings')  # Add x-axis label\n",
    "plt.ylabel('Frequency')  # Add y-axis label\n",
    "plt.show()\n"
   ]
  },
  {
   "cell_type": "code",
   "execution_count": null,
   "metadata": {},
   "outputs": [],
   "source": [
    "##Plot top 40 most used adjectives in reviews \n",
    "\n",
    "import spacy\n",
    "from collections import Counter\n",
    "import matplotlib.pyplot as plt\n",
    "\n",
    "# Load the English language model\n",
    "nlp = spacy.load(\"en_core_web_sm\")\n",
    "\n",
    "reviews = barbie_data['text']\n",
    "\n",
    "#remove adjectives that aren't helpful for analysis\n",
    "words_to_remove = ['other', 'sure', 'first', 'many', 'same', 'own', 'little', 'most', 'few', 'main', 'such']\n",
    "\n",
    "# Function to extract adjectives from a spacy parsed document\n",
    "def extract_adjectives(doc):\n",
    "    adjectives = [token.text for token in doc if token.pos_ == 'ADJ' and token.text.lower() not in words_to_remove]\n",
    "    return adjectives\n",
    "\n",
    "# Tokenize each review, parse them using spacy, and extract adjectives\n",
    "adjectives = []\n",
    "for review in reviews:\n",
    "    doc = nlp(review)\n",
    "    adjectives.extend(extract_adjectives(doc))\n",
    "\n",
    "# Count the frequency of each adjective\n",
    "adjective_freq = Counter(adjectives)\n",
    "\n",
    "top_40_adjectives = dict(adjective_freq.most_common(40))\n",
    "\n",
    "# Plotting the frequency distribution for the top 20 adjectives\n",
    "plt.figure(figsize=(10, 6))\n",
    "plt.bar(top_40_adjectives.keys(), top_40_adjectives.values(), color='skyblue')\n",
    "plt.xlabel('Adjectives')\n",
    "plt.ylabel('Frequency')\n",
    "plt.title('Top 40 Adjectives in Reviews')\n",
    "plt.xticks(rotation=45, ha='right')\n",
    "plt.tight_layout()\n",
    "plt.show()"
   ]
  },
  {
   "cell_type": "code",
   "execution_count": null,
   "metadata": {},
   "outputs": [],
   "source": []
  },
  {
   "cell_type": "code",
   "execution_count": null,
   "metadata": {},
   "outputs": [],
   "source": []
  }
 ],
 "metadata": {
  "language_info": {
   "name": "python"
  }
 },
 "nbformat": 4,
 "nbformat_minor": 2
}
