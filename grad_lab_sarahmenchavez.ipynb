{
 "cells": [
  {
   "cell_type": "code",
   "execution_count": 1,
   "metadata": {},
   "outputs": [
    {
     "name": "stdout",
     "output_type": "stream",
     "text": [
      "<class 'pandas.core.frame.DataFrame'>\n",
      "RangeIndex: 3798 entries, 0 to 3797\n",
      "Data columns (total 62 columns):\n",
      " #   Column                                Non-Null Count  Dtype  \n",
      "---  ------                                --------------  -----  \n",
      " 0   unitid                                3798 non-null   int64  \n",
      " 1   chronname                             3798 non-null   object \n",
      " 2   city                                  3798 non-null   object \n",
      " 3   state                                 3798 non-null   object \n",
      " 4   level                                 3798 non-null   object \n",
      " 5   control                               3798 non-null   object \n",
      " 6   basic                                 3798 non-null   object \n",
      " 7   hbcu                                  94 non-null     object \n",
      " 8   flagship                              50 non-null     object \n",
      " 9   long_x                                3798 non-null   float64\n",
      " 10  lat_y                                 3798 non-null   float64\n",
      " 11  site                                  3779 non-null   object \n",
      " 12  student_count                         3798 non-null   int64  \n",
      " 13  awards_per_value                      3798 non-null   float64\n",
      " 14  awards_per_state_value                3798 non-null   float64\n",
      " 15  awards_per_natl_value                 3798 non-null   float64\n",
      " 16  exp_award_value                       3798 non-null   int64  \n",
      " 17  exp_award_state_value                 3798 non-null   int64  \n",
      " 18  exp_award_natl_value                  3798 non-null   int64  \n",
      " 19  exp_award_percentile                  3798 non-null   int64  \n",
      " 20  ft_pct                                3794 non-null   float64\n",
      " 21  fte_value                             3798 non-null   int64  \n",
      " 22  fte_percentile                        3798 non-null   int64  \n",
      " 23  med_sat_value                         1337 non-null   float64\n",
      " 24  med_sat_percentile                    1337 non-null   float64\n",
      " 25  aid_value                             3797 non-null   float64\n",
      " 26  aid_percentile                        3797 non-null   float64\n",
      " 27  endow_value                           2323 non-null   float64\n",
      " 28  endow_percentile                      2323 non-null   float64\n",
      " 29  grad_100_value                        3467 non-null   float64\n",
      " 30  grad_100_percentile                   3467 non-null   float64\n",
      " 31  grad_150_value                        3467 non-null   float64\n",
      " 32  grad_150_percentile                   3467 non-null   float64\n",
      " 33  pell_value                            3797 non-null   float64\n",
      " 34  pell_percentile                       3797 non-null   float64\n",
      " 35  retain_value                          3535 non-null   float64\n",
      " 36  retain_percentile                     3535 non-null   float64\n",
      " 37  ft_fac_value                          3785 non-null   float64\n",
      " 38  ft_fac_percentile                     3785 non-null   float64\n",
      " 39  vsa_year                              279 non-null    float64\n",
      " 40  vsa_grad_after4_first                 279 non-null    float64\n",
      " 41  vsa_grad_elsewhere_after4_first       279 non-null    float64\n",
      " 42  vsa_enroll_after4_first               279 non-null    float64\n",
      " 43  vsa_enroll_elsewhere_after4_first     279 non-null    float64\n",
      " 44  vsa_grad_after6_first                 279 non-null    float64\n",
      " 45  vsa_grad_elsewhere_after6_first       279 non-null    float64\n",
      " 46  vsa_enroll_after6_first               279 non-null    float64\n",
      " 47  vsa_enroll_elsewhere_after6_first     279 non-null    float64\n",
      " 48  vsa_grad_after4_transfer              270 non-null    float64\n",
      " 49  vsa_grad_elsewhere_after4_transfer    270 non-null    float64\n",
      " 50  vsa_enroll_after4_transfer            270 non-null    float64\n",
      " 51  vsa_enroll_elsewhere_after4_transfer  270 non-null    float64\n",
      " 52  vsa_grad_after6_transfer              270 non-null    float64\n",
      " 53  vsa_grad_elsewhere_after6_transfer    270 non-null    float64\n",
      " 54  vsa_enroll_after6_transfer            270 non-null    float64\n",
      " 55  vsa_enroll_elsewhere_after6_transfer  270 non-null    float64\n",
      " 56  similar                               3579 non-null   object \n",
      " 57  state_sector_ct                       3798 non-null   int64  \n",
      " 58  carnegie_ct                           3798 non-null   int64  \n",
      " 59  counted_pct                           3372 non-null   object \n",
      " 60  nicknames                             310 non-null    object \n",
      " 61  cohort_size                           3467 non-null   float64\n",
      "dtypes: float64(40), int64(10), object(12)\n",
      "memory usage: 1.8+ MB\n"
     ]
    }
   ],
   "source": [
    "import pandas as pd\n",
    "import pandas as pd\n",
    "import numpy as np\n",
    "from sklearn.model_selection import train_test_split\n",
    "from sklearn.neighbors import KNeighborsClassifier\n",
    "from matplotlib import pyplot as plt\n",
    "import seaborn as sns\n",
    "from sklearn import preprocessing\n",
    "import random\n",
    "from sklearn.metrics import confusion_matrix, ConfusionMatrixDisplay\n",
    "from sklearn.metrics import classification_report\n",
    "from sklearn import metrics\n",
    "from plot_metric.functions import BinaryClassification\n",
    "from sklearn.preprocessing import StandardScaler\n",
    "\n",
    "#read in data \n",
    "grad_data = pd.read_csv(\"c:\\\\Users\\\\sarah\\\\OneDrive\\\\Documents\\\\DS3001_ML\\\\cc_institution_details.csv\", encoding='unicode_escape')\n",
    "grad_data.info()"
   ]
  },
  {
   "cell_type": "code",
   "execution_count": 190,
   "metadata": {},
   "outputs": [
    {
     "data": {
      "text/plain": [
       "(3798, 62)"
      ]
     },
     "execution_count": 190,
     "metadata": {},
     "output_type": "execute_result"
    }
   ],
   "source": [
    "grad_data.shape\n",
    "#3798 rows and 62 columns "
   ]
  },
  {
   "cell_type": "code",
   "execution_count": 191,
   "metadata": {},
   "outputs": [],
   "source": [
    "#drop missing data, within range and additional list \n",
    "to_drop = list(range(39, 56))\n",
    "to_drop.extend([27, 9, 10, 11, 28, 36, 60, 56])"
   ]
  },
  {
   "cell_type": "code",
   "execution_count": 192,
   "metadata": {},
   "outputs": [
    {
     "name": "stdout",
     "output_type": "stream",
     "text": [
      "<class 'pandas.core.frame.DataFrame'>\n",
      "RangeIndex: 3798 entries, 0 to 3797\n",
      "Data columns (total 37 columns):\n",
      " #   Column                  Non-Null Count  Dtype  \n",
      "---  ------                  --------------  -----  \n",
      " 0   unitid                  3798 non-null   int64  \n",
      " 1   chronname               3798 non-null   object \n",
      " 2   city                    3798 non-null   object \n",
      " 3   state                   3798 non-null   object \n",
      " 4   level                   3798 non-null   object \n",
      " 5   control                 3798 non-null   object \n",
      " 6   basic                   3798 non-null   object \n",
      " 7   hbcu                    94 non-null     object \n",
      " 8   flagship                50 non-null     object \n",
      " 9   student_count           3798 non-null   int64  \n",
      " 10  awards_per_value        3798 non-null   float64\n",
      " 11  awards_per_state_value  3798 non-null   float64\n",
      " 12  awards_per_natl_value   3798 non-null   float64\n",
      " 13  exp_award_value         3798 non-null   int64  \n",
      " 14  exp_award_state_value   3798 non-null   int64  \n",
      " 15  exp_award_natl_value    3798 non-null   int64  \n",
      " 16  exp_award_percentile    3798 non-null   int64  \n",
      " 17  ft_pct                  3794 non-null   float64\n",
      " 18  fte_value               3798 non-null   int64  \n",
      " 19  fte_percentile          3798 non-null   int64  \n",
      " 20  med_sat_value           1337 non-null   float64\n",
      " 21  med_sat_percentile      1337 non-null   float64\n",
      " 22  aid_value               3797 non-null   float64\n",
      " 23  aid_percentile          3797 non-null   float64\n",
      " 24  grad_100_value          3467 non-null   float64\n",
      " 25  grad_100_percentile     3467 non-null   float64\n",
      " 26  grad_150_value          3467 non-null   float64\n",
      " 27  grad_150_percentile     3467 non-null   float64\n",
      " 28  pell_value              3797 non-null   float64\n",
      " 29  pell_percentile         3797 non-null   float64\n",
      " 30  retain_value            3535 non-null   float64\n",
      " 31  ft_fac_value            3785 non-null   float64\n",
      " 32  ft_fac_percentile       3785 non-null   float64\n",
      " 33  state_sector_ct         3798 non-null   int64  \n",
      " 34  carnegie_ct             3798 non-null   int64  \n",
      " 35  counted_pct             3372 non-null   object \n",
      " 36  cohort_size             3467 non-null   float64\n",
      "dtypes: float64(18), int64(10), object(9)\n",
      "memory usage: 1.1+ MB\n"
     ]
    }
   ],
   "source": [
    "#drop missing data \n",
    "grad_data1 = grad_data.drop(grad_data.columns[to_drop], axis=1)\n",
    "grad_data1.info()"
   ]
  },
  {
   "cell_type": "code",
   "execution_count": 193,
   "metadata": {},
   "outputs": [
    {
     "name": "stdout",
     "output_type": "stream",
     "text": [
      "<class 'pandas.core.frame.DataFrame'>\n",
      "RangeIndex: 3798 entries, 0 to 3797\n",
      "Data columns (total 20 columns):\n",
      " #   Column                Non-Null Count  Dtype  \n",
      "---  ------                --------------  -----  \n",
      " 0   chronname             3798 non-null   object \n",
      " 1   level                 3798 non-null   object \n",
      " 2   control               3798 non-null   object \n",
      " 3   hbcu                  94 non-null     object \n",
      " 4   student_count         3798 non-null   int64  \n",
      " 5   awards_per_value      3798 non-null   float64\n",
      " 6   exp_award_value       3798 non-null   int64  \n",
      " 7   exp_award_percentile  3798 non-null   int64  \n",
      " 8   ft_pct                3794 non-null   float64\n",
      " 9   fte_percentile        3798 non-null   int64  \n",
      " 10  med_sat_value         1337 non-null   float64\n",
      " 11  aid_value             3797 non-null   float64\n",
      " 12  grad_100_value        3467 non-null   float64\n",
      " 13  grad_100_percentile   3467 non-null   float64\n",
      " 14  grad_150_value        3467 non-null   float64\n",
      " 15  grad_150_percentile   3467 non-null   float64\n",
      " 16  pell_value            3797 non-null   float64\n",
      " 17  retain_value          3535 non-null   float64\n",
      " 18  ft_fac_value          3785 non-null   float64\n",
      " 19  cohort_size           3467 non-null   float64\n",
      "dtypes: float64(12), int64(4), object(4)\n",
      "memory usage: 593.6+ KB\n"
     ]
    }
   ],
   "source": [
    "#drop nonpredictive columms \n",
    "drop_more = [0,2,3,6,8,11,12,14,15,18,21,23,29,32,33,34,35]\n",
    "grad_data2 = grad_data1.drop(grad_data1.columns[drop_more], axis=1)\n",
    "grad_data2.info()"
   ]
  },
  {
   "cell_type": "code",
   "execution_count": 194,
   "metadata": {},
   "outputs": [
    {
     "data": {
      "text/html": [
       "<div>\n",
       "<style scoped>\n",
       "    .dataframe tbody tr th:only-of-type {\n",
       "        vertical-align: middle;\n",
       "    }\n",
       "\n",
       "    .dataframe tbody tr th {\n",
       "        vertical-align: top;\n",
       "    }\n",
       "\n",
       "    .dataframe thead th {\n",
       "        text-align: right;\n",
       "    }\n",
       "</style>\n",
       "<table border=\"1\" class=\"dataframe\">\n",
       "  <thead>\n",
       "    <tr style=\"text-align: right;\">\n",
       "      <th></th>\n",
       "      <th>chronname</th>\n",
       "      <th>level</th>\n",
       "      <th>control</th>\n",
       "      <th>hbcu</th>\n",
       "      <th>student_count</th>\n",
       "      <th>awards_per_value</th>\n",
       "      <th>exp_award_value</th>\n",
       "      <th>exp_award_percentile</th>\n",
       "      <th>ft_pct</th>\n",
       "      <th>fte_percentile</th>\n",
       "      <th>med_sat_value</th>\n",
       "      <th>aid_value</th>\n",
       "      <th>grad_100_value</th>\n",
       "      <th>grad_100_percentile</th>\n",
       "      <th>grad_150_value</th>\n",
       "      <th>grad_150_percentile</th>\n",
       "      <th>pell_value</th>\n",
       "      <th>retain_value</th>\n",
       "      <th>ft_fac_value</th>\n",
       "      <th>cohort_size</th>\n",
       "    </tr>\n",
       "  </thead>\n",
       "  <tbody>\n",
       "    <tr>\n",
       "      <th>0</th>\n",
       "      <td>Alabama A&amp;M University</td>\n",
       "      <td>4-year</td>\n",
       "      <td>Public</td>\n",
       "      <td>X</td>\n",
       "      <td>4051</td>\n",
       "      <td>14.2</td>\n",
       "      <td>105331</td>\n",
       "      <td>90</td>\n",
       "      <td>93.8</td>\n",
       "      <td>33</td>\n",
       "      <td>823.0</td>\n",
       "      <td>7142.0</td>\n",
       "      <td>10.0</td>\n",
       "      <td>15.0</td>\n",
       "      <td>29.1</td>\n",
       "      <td>14.0</td>\n",
       "      <td>71.2</td>\n",
       "      <td>63.1</td>\n",
       "      <td>82.8</td>\n",
       "      <td>882.0</td>\n",
       "    </tr>\n",
       "    <tr>\n",
       "      <th>1</th>\n",
       "      <td>University of Alabama at Birmingham</td>\n",
       "      <td>4-year</td>\n",
       "      <td>Public</td>\n",
       "      <td>NaN</td>\n",
       "      <td>11502</td>\n",
       "      <td>20.9</td>\n",
       "      <td>136546</td>\n",
       "      <td>97</td>\n",
       "      <td>72.7</td>\n",
       "      <td>67</td>\n",
       "      <td>1146.0</td>\n",
       "      <td>6088.0</td>\n",
       "      <td>29.4</td>\n",
       "      <td>67.0</td>\n",
       "      <td>53.5</td>\n",
       "      <td>66.0</td>\n",
       "      <td>35.1</td>\n",
       "      <td>80.2</td>\n",
       "      <td>92.4</td>\n",
       "      <td>1376.0</td>\n",
       "    </tr>\n",
       "    <tr>\n",
       "      <th>2</th>\n",
       "      <td>Amridge University</td>\n",
       "      <td>4-year</td>\n",
       "      <td>Private not-for-profit</td>\n",
       "      <td>NaN</td>\n",
       "      <td>322</td>\n",
       "      <td>29.9</td>\n",
       "      <td>58414</td>\n",
       "      <td>30</td>\n",
       "      <td>62.7</td>\n",
       "      <td>12</td>\n",
       "      <td>NaN</td>\n",
       "      <td>2540.0</td>\n",
       "      <td>0.0</td>\n",
       "      <td>0.0</td>\n",
       "      <td>66.7</td>\n",
       "      <td>72.0</td>\n",
       "      <td>68.4</td>\n",
       "      <td>37.5</td>\n",
       "      <td>67.2</td>\n",
       "      <td>3.0</td>\n",
       "    </tr>\n",
       "    <tr>\n",
       "      <th>3</th>\n",
       "      <td>University of Alabama at Huntsville</td>\n",
       "      <td>4-year</td>\n",
       "      <td>Public</td>\n",
       "      <td>NaN</td>\n",
       "      <td>5696</td>\n",
       "      <td>20.9</td>\n",
       "      <td>64418</td>\n",
       "      <td>61</td>\n",
       "      <td>74.4</td>\n",
       "      <td>40</td>\n",
       "      <td>1180.0</td>\n",
       "      <td>6647.0</td>\n",
       "      <td>16.5</td>\n",
       "      <td>34.0</td>\n",
       "      <td>48.4</td>\n",
       "      <td>54.0</td>\n",
       "      <td>32.8</td>\n",
       "      <td>81.0</td>\n",
       "      <td>65.5</td>\n",
       "      <td>759.0</td>\n",
       "    </tr>\n",
       "    <tr>\n",
       "      <th>4</th>\n",
       "      <td>Alabama State University</td>\n",
       "      <td>4-year</td>\n",
       "      <td>Public</td>\n",
       "      <td>X</td>\n",
       "      <td>5356</td>\n",
       "      <td>11.6</td>\n",
       "      <td>132407</td>\n",
       "      <td>96</td>\n",
       "      <td>91.0</td>\n",
       "      <td>41</td>\n",
       "      <td>830.0</td>\n",
       "      <td>7256.0</td>\n",
       "      <td>8.8</td>\n",
       "      <td>11.0</td>\n",
       "      <td>25.2</td>\n",
       "      <td>9.0</td>\n",
       "      <td>82.7</td>\n",
       "      <td>62.2</td>\n",
       "      <td>67.0</td>\n",
       "      <td>1351.0</td>\n",
       "    </tr>\n",
       "  </tbody>\n",
       "</table>\n",
       "</div>"
      ],
      "text/plain": [
       "                             chronname   level                 control hbcu  \\\n",
       "0               Alabama A&M University  4-year                  Public    X   \n",
       "1  University of Alabama at Birmingham  4-year                  Public  NaN   \n",
       "2                   Amridge University  4-year  Private not-for-profit  NaN   \n",
       "3  University of Alabama at Huntsville  4-year                  Public  NaN   \n",
       "4             Alabama State University  4-year                  Public    X   \n",
       "\n",
       "   student_count  awards_per_value  exp_award_value  exp_award_percentile  \\\n",
       "0           4051              14.2           105331                    90   \n",
       "1          11502              20.9           136546                    97   \n",
       "2            322              29.9            58414                    30   \n",
       "3           5696              20.9            64418                    61   \n",
       "4           5356              11.6           132407                    96   \n",
       "\n",
       "   ft_pct  fte_percentile  med_sat_value  aid_value  grad_100_value  \\\n",
       "0    93.8              33          823.0     7142.0            10.0   \n",
       "1    72.7              67         1146.0     6088.0            29.4   \n",
       "2    62.7              12            NaN     2540.0             0.0   \n",
       "3    74.4              40         1180.0     6647.0            16.5   \n",
       "4    91.0              41          830.0     7256.0             8.8   \n",
       "\n",
       "   grad_100_percentile  grad_150_value  grad_150_percentile  pell_value  \\\n",
       "0                 15.0            29.1                 14.0        71.2   \n",
       "1                 67.0            53.5                 66.0        35.1   \n",
       "2                  0.0            66.7                 72.0        68.4   \n",
       "3                 34.0            48.4                 54.0        32.8   \n",
       "4                 11.0            25.2                  9.0        82.7   \n",
       "\n",
       "   retain_value  ft_fac_value  cohort_size  \n",
       "0          63.1          82.8        882.0  \n",
       "1          80.2          92.4       1376.0  \n",
       "2          37.5          67.2          3.0  \n",
       "3          81.0          65.5        759.0  \n",
       "4          62.2          67.0       1351.0  "
      ]
     },
     "execution_count": 194,
     "metadata": {},
     "output_type": "execute_result"
    }
   ],
   "source": [
    "grad_data2.head()"
   ]
  },
  {
   "cell_type": "code",
   "execution_count": 195,
   "metadata": {},
   "outputs": [],
   "source": [
    "#replaces NULL value with NaN value\n",
    "import numpy as np\n",
    "grad_data2.replace('NULL', np.nan, inplace=True)"
   ]
  },
  {
   "cell_type": "code",
   "execution_count": 196,
   "metadata": {},
   "outputs": [
    {
     "data": {
      "text/plain": [
       "hbcu\n",
       "0    3704\n",
       "1      94\n",
       "Name: count, dtype: int64"
      ]
     },
     "execution_count": 196,
     "metadata": {},
     "output_type": "execute_result"
    }
   ],
   "source": [
    "#replaces NaN with number values \n",
    "grad_data2['hbcu'] = [1 if grad_data2['hbcu'][i]=='X' else 0 for i in range(len(grad_data2['hbcu']))]\n",
    "grad_data2['hbcu'].value_counts()"
   ]
  },
  {
   "cell_type": "code",
   "execution_count": 197,
   "metadata": {},
   "outputs": [],
   "source": [
    "#convert columns to categories \n",
    "grad_data2['hbcu'] = grad_data2.hbcu.astype('category')\n",
    "grad_data2[['level', 'control']] = grad_data2[['level', 'control']].astype('category')"
   ]
  },
  {
   "cell_type": "code",
   "execution_count": 198,
   "metadata": {},
   "outputs": [
    {
     "name": "stdout",
     "output_type": "stream",
     "text": [
      "<class 'pandas.core.frame.DataFrame'>\n",
      "RangeIndex: 3798 entries, 0 to 3797\n",
      "Data columns (total 20 columns):\n",
      " #   Column                Non-Null Count  Dtype   \n",
      "---  ------                --------------  -----   \n",
      " 0   chronname             3798 non-null   object  \n",
      " 1   level                 3798 non-null   category\n",
      " 2   control               3798 non-null   category\n",
      " 3   hbcu                  3798 non-null   category\n",
      " 4   student_count         3798 non-null   int64   \n",
      " 5   awards_per_value      3798 non-null   float64 \n",
      " 6   exp_award_value       3798 non-null   int64   \n",
      " 7   exp_award_percentile  3798 non-null   int64   \n",
      " 8   ft_pct                3794 non-null   float64 \n",
      " 9   fte_percentile        3798 non-null   int64   \n",
      " 10  med_sat_value         1337 non-null   float64 \n",
      " 11  aid_value             3797 non-null   float64 \n",
      " 12  grad_100_value        3467 non-null   float64 \n",
      " 13  grad_100_percentile   3467 non-null   float64 \n",
      " 14  grad_150_value        3467 non-null   float64 \n",
      " 15  grad_150_percentile   3467 non-null   float64 \n",
      " 16  pell_value            3797 non-null   float64 \n",
      " 17  retain_value          3535 non-null   float64 \n",
      " 18  ft_fac_value          3785 non-null   float64 \n",
      " 19  cohort_size           3467 non-null   float64 \n",
      "dtypes: category(3), float64(12), int64(4), object(1)\n",
      "memory usage: 516.0+ KB\n"
     ]
    }
   ],
   "source": [
    "grad_data2.info()"
   ]
  },
  {
   "cell_type": "code",
   "execution_count": 199,
   "metadata": {},
   "outputs": [
    {
     "data": {
      "text/plain": [
       "<seaborn.axisgrid.FacetGrid at 0x194aa5144d0>"
      ]
     },
     "execution_count": 199,
     "metadata": {},
     "output_type": "execute_result"
    },
    {
     "data": {
      "image/png": "[encoded data removed]",
      "text/plain": [
       "<Figure size 709.875x500 with 1 Axes>"
      ]
     },
     "metadata": {},
     "output_type": "display_data"
    }
   ],
   "source": [
    "# check missing data\n",
    "sns.displot(\n",
    "    data=grad_data2.isna().melt(value_name=\"missing\"),\n",
    "    y=\"variable\",\n",
    "    hue=\"missing\",\n",
    "    multiple=\"fill\",\n",
    "    aspect=1.25\n",
    ")"
   ]
  },
  {
   "cell_type": "code",
   "execution_count": 200,
   "metadata": {},
   "outputs": [],
   "source": [
    "#drop med_stat_value then delete the rest of the NA rows\n",
    "grad_data2 = grad_data2.drop(grad_data[['med_sat_value']], axis=1)\n",
    "grad_data2.dropna(axis = 0, how = 'any', inplace = True)"
   ]
  },
  {
   "cell_type": "code",
   "execution_count": 201,
   "metadata": {},
   "outputs": [
    {
     "data": {
      "text/plain": [
       "<seaborn.axisgrid.FacetGrid at 0x194a9146ad0>"
      ]
     },
     "execution_count": 201,
     "metadata": {},
     "output_type": "execute_result"
    },
    {
     "data": {
      "image/png": "[encoded data removed]",
      "text/plain": [
       "<Figure size 709.875x500 with 1 Axes>"
      ]
     },
     "metadata": {},
     "output_type": "display_data"
    }
   ],
   "source": [
    "#check missing data again \n",
    "sns.displot(\n",
    "    data=grad_data2.isna().melt(value_name=\"missing\"),\n",
    "    y=\"variable\",\n",
    "    hue=\"missing\",\n",
    "    multiple=\"fill\",\n",
    "    aspect=1.25\n",
    ")"
   ]
  },
  {
   "cell_type": "code",
   "execution_count": 202,
   "metadata": {},
   "outputs": [
    {
     "name": "stdout",
     "output_type": "stream",
     "text": [
      "<class 'pandas.core.frame.DataFrame'>\n",
      "Index: 3371 entries, 0 to 3796\n",
      "Data columns (total 19 columns):\n",
      " #   Column                Non-Null Count  Dtype   \n",
      "---  ------                --------------  -----   \n",
      " 0   chronname             3371 non-null   object  \n",
      " 1   level                 3371 non-null   category\n",
      " 2   control               3371 non-null   category\n",
      " 3   hbcu                  3371 non-null   category\n",
      " 4   student_count         3371 non-null   int64   \n",
      " 5   awards_per_value      3371 non-null   float64 \n",
      " 6   exp_award_value       3371 non-null   int64   \n",
      " 7   exp_award_percentile  3371 non-null   int64   \n",
      " 8   ft_pct                3371 non-null   float64 \n",
      " 9   fte_percentile        3371 non-null   int64   \n",
      " 10  aid_value             3371 non-null   float64 \n",
      " 11  grad_100_value        3371 non-null   float64 \n",
      " 12  grad_100_percentile   3371 non-null   float64 \n",
      " 13  grad_150_value        3371 non-null   float64 \n",
      " 14  grad_150_percentile   3371 non-null   float64 \n",
      " 15  pell_value            3371 non-null   float64 \n",
      " 16  retain_value          3371 non-null   float64 \n",
      " 17  ft_fac_value          3371 non-null   float64 \n",
      " 18  cohort_size           3371 non-null   float64 \n",
      "dtypes: category(3), float64(11), int64(4), object(1)\n",
      "memory usage: 458.0+ KB\n"
     ]
    }
   ],
   "source": [
    "#Question \n",
    "#Assuming 4-year schools give more aid, can we determine aid for incoming students based on if they are attending a 4-year or 2-year school?\n",
    "\n",
    "grad_data2.info()"
   ]
  },
  {
   "cell_type": "code",
   "execution_count": 203,
   "metadata": {},
   "outputs": [
    {
     "name": "stdout",
     "output_type": "stream",
     "text": [
      "Index(['student_count', 'exp_award_value', 'exp_award_percentile',\n",
      "       'fte_percentile'],\n",
      "      dtype='object')\n"
     ]
    }
   ],
   "source": [
    "# normalize the numeric variables\n",
    "numeric_cols = grad_data2.select_dtypes(include='int64').columns\n",
    "print(numeric_cols)"
   ]
  },
  {
   "cell_type": "code",
   "execution_count": 204,
   "metadata": {},
   "outputs": [
    {
     "data": {
      "text/html": [
       "<div>\n",
       "<style scoped>\n",
       "    .dataframe tbody tr th:only-of-type {\n",
       "        vertical-align: middle;\n",
       "    }\n",
       "\n",
       "    .dataframe tbody tr th {\n",
       "        vertical-align: top;\n",
       "    }\n",
       "\n",
       "    .dataframe thead th {\n",
       "        text-align: right;\n",
       "    }\n",
       "</style>\n",
       "<table border=\"1\" class=\"dataframe\">\n",
       "  <thead>\n",
       "    <tr style=\"text-align: right;\">\n",
       "      <th></th>\n",
       "      <th>student_count</th>\n",
       "      <th>awards_per_value</th>\n",
       "      <th>exp_award_value</th>\n",
       "      <th>exp_award_percentile</th>\n",
       "      <th>ft_pct</th>\n",
       "      <th>fte_percentile</th>\n",
       "      <th>aid_value</th>\n",
       "      <th>grad_100_value</th>\n",
       "      <th>grad_100_percentile</th>\n",
       "      <th>grad_150_value</th>\n",
       "      <th>grad_150_percentile</th>\n",
       "      <th>pell_value</th>\n",
       "      <th>retain_value</th>\n",
       "      <th>ft_fac_value</th>\n",
       "      <th>cohort_size</th>\n",
       "    </tr>\n",
       "  </thead>\n",
       "  <tbody>\n",
       "    <tr>\n",
       "      <th>count</th>\n",
       "      <td>3083.000000</td>\n",
       "      <td>3371.000000</td>\n",
       "      <td>3083.000000</td>\n",
       "      <td>3083.000000</td>\n",
       "      <td>3371.000000</td>\n",
       "      <td>3083.000000</td>\n",
       "      <td>3371.000000</td>\n",
       "      <td>3371.000000</td>\n",
       "      <td>3371.000000</td>\n",
       "      <td>3371.000000</td>\n",
       "      <td>3371.000000</td>\n",
       "      <td>3371.000000</td>\n",
       "      <td>3371.000000</td>\n",
       "      <td>3371.000000</td>\n",
       "      <td>3371.000000</td>\n",
       "    </tr>\n",
       "    <tr>\n",
       "      <th>mean</th>\n",
       "      <td>0.028538</td>\n",
       "      <td>22.710116</td>\n",
       "      <td>0.012989</td>\n",
       "      <td>0.521395</td>\n",
       "      <td>71.625185</td>\n",
       "      <td>0.516588</td>\n",
       "      <td>8355.173539</td>\n",
       "      <td>28.619371</td>\n",
       "      <td>47.126669</td>\n",
       "      <td>42.901187</td>\n",
       "      <td>49.303471</td>\n",
       "      <td>45.763364</td>\n",
       "      <td>66.699763</td>\n",
       "      <td>47.042539</td>\n",
       "      <td>675.608128</td>\n",
       "    </tr>\n",
       "    <tr>\n",
       "      <th>std</th>\n",
       "      <td>0.044812</td>\n",
       "      <td>10.040922</td>\n",
       "      <td>0.022193</td>\n",
       "      <td>0.286257</td>\n",
       "      <td>25.040679</td>\n",
       "      <td>0.288517</td>\n",
       "      <td>6661.113528</td>\n",
       "      <td>23.208964</td>\n",
       "      <td>30.373339</td>\n",
       "      <td>23.172944</td>\n",
       "      <td>29.245419</td>\n",
       "      <td>19.458833</td>\n",
       "      <td>15.995472</td>\n",
       "      <td>24.293820</td>\n",
       "      <td>969.258271</td>\n",
       "    </tr>\n",
       "    <tr>\n",
       "      <th>min</th>\n",
       "      <td>0.000000</td>\n",
       "      <td>0.500000</td>\n",
       "      <td>0.000000</td>\n",
       "      <td>0.000000</td>\n",
       "      <td>3.800000</td>\n",
       "      <td>0.000000</td>\n",
       "      <td>294.000000</td>\n",
       "      <td>0.000000</td>\n",
       "      <td>0.000000</td>\n",
       "      <td>0.000000</td>\n",
       "      <td>0.000000</td>\n",
       "      <td>0.000000</td>\n",
       "      <td>0.000000</td>\n",
       "      <td>0.000000</td>\n",
       "      <td>1.000000</td>\n",
       "    </tr>\n",
       "    <tr>\n",
       "      <th>25%</th>\n",
       "      <td>0.004594</td>\n",
       "      <td>17.100000</td>\n",
       "      <td>0.006494</td>\n",
       "      <td>0.280000</td>\n",
       "      <td>49.750000</td>\n",
       "      <td>0.270000</td>\n",
       "      <td>4074.500000</td>\n",
       "      <td>9.300000</td>\n",
       "      <td>20.000000</td>\n",
       "      <td>23.600000</td>\n",
       "      <td>24.000000</td>\n",
       "      <td>31.600000</td>\n",
       "      <td>56.400000</td>\n",
       "      <td>27.800000</td>\n",
       "      <td>146.000000</td>\n",
       "    </tr>\n",
       "    <tr>\n",
       "      <th>50%</th>\n",
       "      <td>0.012327</td>\n",
       "      <td>21.000000</td>\n",
       "      <td>0.010044</td>\n",
       "      <td>0.530000</td>\n",
       "      <td>78.600000</td>\n",
       "      <td>0.530000</td>\n",
       "      <td>5472.000000</td>\n",
       "      <td>23.100000</td>\n",
       "      <td>47.000000</td>\n",
       "      <td>41.700000</td>\n",
       "      <td>49.000000</td>\n",
       "      <td>43.100000</td>\n",
       "      <td>67.100000</td>\n",
       "      <td>44.000000</td>\n",
       "      <td>367.000000</td>\n",
       "    </tr>\n",
       "    <tr>\n",
       "      <th>75%</th>\n",
       "      <td>0.033902</td>\n",
       "      <td>25.300000</td>\n",
       "      <td>0.015248</td>\n",
       "      <td>0.770000</td>\n",
       "      <td>94.300000</td>\n",
       "      <td>0.770000</td>\n",
       "      <td>10533.000000</td>\n",
       "      <td>43.900000</td>\n",
       "      <td>73.000000</td>\n",
       "      <td>60.500000</td>\n",
       "      <td>75.000000</td>\n",
       "      <td>58.450000</td>\n",
       "      <td>78.100000</td>\n",
       "      <td>64.400000</td>\n",
       "      <td>802.000000</td>\n",
       "    </tr>\n",
       "    <tr>\n",
       "      <th>max</th>\n",
       "      <td>1.000000</td>\n",
       "      <td>131.100000</td>\n",
       "      <td>1.000000</td>\n",
       "      <td>1.000000</td>\n",
       "      <td>100.000000</td>\n",
       "      <td>1.000000</td>\n",
       "      <td>41580.000000</td>\n",
       "      <td>100.000000</td>\n",
       "      <td>100.000000</td>\n",
       "      <td>100.000000</td>\n",
       "      <td>100.000000</td>\n",
       "      <td>100.000000</td>\n",
       "      <td>100.000000</td>\n",
       "      <td>100.000000</td>\n",
       "      <td>16229.000000</td>\n",
       "    </tr>\n",
       "  </tbody>\n",
       "</table>\n",
       "</div>"
      ],
      "text/plain": [
       "       student_count  awards_per_value  exp_award_value  exp_award_percentile  \\\n",
       "count    3083.000000       3371.000000      3083.000000           3083.000000   \n",
       "mean        0.028538         22.710116         0.012989              0.521395   \n",
       "std         0.044812         10.040922         0.022193              0.286257   \n",
       "min         0.000000          0.500000         0.000000              0.000000   \n",
       "25%         0.004594         17.100000         0.006494              0.280000   \n",
       "50%         0.012327         21.000000         0.010044              0.530000   \n",
       "75%         0.033902         25.300000         0.015248              0.770000   \n",
       "max         1.000000        131.100000         1.000000              1.000000   \n",
       "\n",
       "            ft_pct  fte_percentile     aid_value  grad_100_value  \\\n",
       "count  3371.000000     3083.000000   3371.000000     3371.000000   \n",
       "mean     71.625185        0.516588   8355.173539       28.619371   \n",
       "std      25.040679        0.288517   6661.113528       23.208964   \n",
       "min       3.800000        0.000000    294.000000        0.000000   \n",
       "25%      49.750000        0.270000   4074.500000        9.300000   \n",
       "50%      78.600000        0.530000   5472.000000       23.100000   \n",
       "75%      94.300000        0.770000  10533.000000       43.900000   \n",
       "max     100.000000        1.000000  41580.000000      100.000000   \n",
       "\n",
       "       grad_100_percentile  grad_150_value  grad_150_percentile   pell_value  \\\n",
       "count          3371.000000     3371.000000          3371.000000  3371.000000   \n",
       "mean             47.126669       42.901187            49.303471    45.763364   \n",
       "std              30.373339       23.172944            29.245419    19.458833   \n",
       "min               0.000000        0.000000             0.000000     0.000000   \n",
       "25%              20.000000       23.600000            24.000000    31.600000   \n",
       "50%              47.000000       41.700000            49.000000    43.100000   \n",
       "75%              73.000000       60.500000            75.000000    58.450000   \n",
       "max             100.000000      100.000000           100.000000   100.000000   \n",
       "\n",
       "       retain_value  ft_fac_value   cohort_size  \n",
       "count   3371.000000   3371.000000   3371.000000  \n",
       "mean      66.699763     47.042539    675.608128  \n",
       "std       15.995472     24.293820    969.258271  \n",
       "min        0.000000      0.000000      1.000000  \n",
       "25%       56.400000     27.800000    146.000000  \n",
       "50%       67.100000     44.000000    367.000000  \n",
       "75%       78.100000     64.400000    802.000000  \n",
       "max      100.000000    100.000000  16229.000000  "
      ]
     },
     "execution_count": 204,
     "metadata": {},
     "output_type": "execute_result"
    }
   ],
   "source": [
    "# normalize numeric variables \n",
    "from sklearn import preprocessing\n",
    "scaler = preprocessing.MinMaxScaler()\n",
    "d = scaler.fit_transform(grad_data2[numeric_cols]) # conduct data transformation\n",
    "scaled_df = pd.DataFrame(d, columns=numeric_cols) # convert back to pd df;\n",
    "\n",
    "grad_data2[numeric_cols] = scaled_df # put data back into the main df\n",
    "\n",
    "grad_data2.describe()"
   ]
  },
  {
   "cell_type": "code",
   "execution_count": 205,
   "metadata": {},
   "outputs": [
    {
     "name": "stdout",
     "output_type": "stream",
     "text": [
      "Index(['level', 'control', 'hbcu'], dtype='object')\n"
     ]
    }
   ],
   "source": [
    "# onehot encode the data to convert categorical variables into columns with 0 and 1 rows \n",
    "category = grad_data2.select_dtypes(include='category').columns\n",
    "print(category)"
   ]
  },
  {
   "cell_type": "code",
   "execution_count": 206,
   "metadata": {},
   "outputs": [
    {
     "data": {
      "text/html": [
       "<div>\n",
       "<style scoped>\n",
       "    .dataframe tbody tr th:only-of-type {\n",
       "        vertical-align: middle;\n",
       "    }\n",
       "\n",
       "    .dataframe tbody tr th {\n",
       "        vertical-align: top;\n",
       "    }\n",
       "\n",
       "    .dataframe thead th {\n",
       "        text-align: right;\n",
       "    }\n",
       "</style>\n",
       "<table border=\"1\" class=\"dataframe\">\n",
       "  <thead>\n",
       "    <tr style=\"text-align: right;\">\n",
       "      <th></th>\n",
       "      <th>level_2-year</th>\n",
       "      <th>level_4-year</th>\n",
       "      <th>control_Private for-profit</th>\n",
       "      <th>control_Private not-for-profit</th>\n",
       "      <th>control_Public</th>\n",
       "      <th>hbcu_0</th>\n",
       "      <th>hbcu_1</th>\n",
       "    </tr>\n",
       "  </thead>\n",
       "  <tbody>\n",
       "    <tr>\n",
       "      <th>0</th>\n",
       "      <td>False</td>\n",
       "      <td>True</td>\n",
       "      <td>False</td>\n",
       "      <td>False</td>\n",
       "      <td>True</td>\n",
       "      <td>False</td>\n",
       "      <td>True</td>\n",
       "    </tr>\n",
       "    <tr>\n",
       "      <th>1</th>\n",
       "      <td>False</td>\n",
       "      <td>True</td>\n",
       "      <td>False</td>\n",
       "      <td>False</td>\n",
       "      <td>True</td>\n",
       "      <td>True</td>\n",
       "      <td>False</td>\n",
       "    </tr>\n",
       "    <tr>\n",
       "      <th>2</th>\n",
       "      <td>False</td>\n",
       "      <td>True</td>\n",
       "      <td>False</td>\n",
       "      <td>True</td>\n",
       "      <td>False</td>\n",
       "      <td>True</td>\n",
       "      <td>False</td>\n",
       "    </tr>\n",
       "    <tr>\n",
       "      <th>3</th>\n",
       "      <td>False</td>\n",
       "      <td>True</td>\n",
       "      <td>False</td>\n",
       "      <td>False</td>\n",
       "      <td>True</td>\n",
       "      <td>True</td>\n",
       "      <td>False</td>\n",
       "    </tr>\n",
       "    <tr>\n",
       "      <th>4</th>\n",
       "      <td>False</td>\n",
       "      <td>True</td>\n",
       "      <td>False</td>\n",
       "      <td>False</td>\n",
       "      <td>True</td>\n",
       "      <td>False</td>\n",
       "      <td>True</td>\n",
       "    </tr>\n",
       "  </tbody>\n",
       "</table>\n",
       "</div>"
      ],
      "text/plain": [
       "   level_2-year  level_4-year  control_Private for-profit  \\\n",
       "0         False          True                       False   \n",
       "1         False          True                       False   \n",
       "2         False          True                       False   \n",
       "3         False          True                       False   \n",
       "4         False          True                       False   \n",
       "\n",
       "   control_Private not-for-profit  control_Public  hbcu_0  hbcu_1  \n",
       "0                           False            True   False    True  \n",
       "1                           False            True    True   False  \n",
       "2                            True           False    True   False  \n",
       "3                           False            True    True   False  \n",
       "4                           False            True   False    True  "
      ]
     },
     "execution_count": 206,
     "metadata": {},
     "output_type": "execute_result"
    }
   ],
   "source": [
    "#one hot encode, get new columns with True or False values \n",
    "encoded = pd.get_dummies(grad_data2[category])\n",
    "encoded.head() \n",
    "\n",
    "#confusing hbcu format"
   ]
  },
  {
   "cell_type": "code",
   "execution_count": 207,
   "metadata": {},
   "outputs": [
    {
     "name": "stdout",
     "output_type": "stream",
     "text": [
      "<class 'pandas.core.frame.DataFrame'>\n",
      "Index: 3371 entries, 0 to 3796\n",
      "Data columns (total 23 columns):\n",
      " #   Column                          Non-Null Count  Dtype  \n",
      "---  ------                          --------------  -----  \n",
      " 0   chronname                       3371 non-null   object \n",
      " 1   student_count                   3083 non-null   float64\n",
      " 2   awards_per_value                3371 non-null   float64\n",
      " 3   exp_award_value                 3083 non-null   float64\n",
      " 4   exp_award_percentile            3083 non-null   float64\n",
      " 5   ft_pct                          3371 non-null   float64\n",
      " 6   fte_percentile                  3083 non-null   float64\n",
      " 7   aid_value                       3371 non-null   float64\n",
      " 8   grad_100_value                  3371 non-null   float64\n",
      " 9   grad_100_percentile             3371 non-null   float64\n",
      " 10  grad_150_value                  3371 non-null   float64\n",
      " 11  grad_150_percentile             3371 non-null   float64\n",
      " 12  pell_value                      3371 non-null   float64\n",
      " 13  retain_value                    3371 non-null   float64\n",
      " 14  ft_fac_value                    3371 non-null   float64\n",
      " 15  cohort_size                     3371 non-null   float64\n",
      " 16  level_2-year                    3371 non-null   bool   \n",
      " 17  level_4-year                    3371 non-null   bool   \n",
      " 18  control_Private for-profit      3371 non-null   bool   \n",
      " 19  control_Private not-for-profit  3371 non-null   bool   \n",
      " 20  control_Public                  3371 non-null   bool   \n",
      " 21  hbcu_0                          3371 non-null   bool   \n",
      " 22  hbcu_1                          3371 non-null   bool   \n",
      "dtypes: bool(7), float64(15), object(1)\n",
      "memory usage: 599.8+ KB\n"
     ]
    }
   ],
   "source": [
    "# drop the old columns and join new encoded columns \n",
    "grad_data2 = grad_data2.drop(category, axis=1)\n",
    "grad_data2 = grad_data2.join(encoded)\n",
    "\n",
    "grad_data2.info()"
   ]
  },
  {
   "cell_type": "code",
   "execution_count": 208,
   "metadata": {},
   "outputs": [],
   "source": [
    "#drop chronname  \n",
    "grad_data2 = grad_data2.drop(grad_data[['chronname', 'student_count', 'exp_award_value', 'exp_award_percentile', 'fte_percentile']], axis=1)"
   ]
  },
  {
   "cell_type": "code",
   "execution_count": 209,
   "metadata": {},
   "outputs": [
    {
     "name": "stdout",
     "output_type": "stream",
     "text": [
      "0.42806288935034115\n"
     ]
    },
    {
     "name": "stderr",
     "output_type": "stream",
     "text": [
      "C:\\Users\\sarah\\AppData\\Local\\Temp\\ipykernel_31432\\3063043740.py:3: FutureWarning: Series.__getitem__ treating keys as positions is deprecated. In a future version, integer keys will always be treated as labels (consistent with DataFrame behavior). To access a value by position, use `ser.iloc[pos]`\n",
      "  print(grad_data2['level_4-year'].value_counts()[1] / grad_data2['level_4-year'].count())\n"
     ]
    }
   ],
   "source": [
    "#checks prevalence \n",
    "#42.8%\n",
    "print(grad_data2['level_4-year'].value_counts()[1] / grad_data2['level_4-year'].count())"
   ]
  },
  {
   "cell_type": "code",
   "execution_count": 210,
   "metadata": {},
   "outputs": [],
   "source": [
    "# standardize indpendent variables \n",
    "grad_data2[[\"aid_value\"]]= StandardScaler().fit_transform(grad_data2[[\"aid_value\"]])"
   ]
  },
  {
   "cell_type": "code",
   "execution_count": 211,
   "metadata": {},
   "outputs": [],
   "source": [
    "X = grad_data2['aid_value'].values # independent variables, to train on \n",
    "y = grad_data2['level_4-year'].values # dependent variable"
   ]
  },
  {
   "cell_type": "code",
   "execution_count": 212,
   "metadata": {},
   "outputs": [],
   "source": [
    "#separate training and test data and stratify to ensure fair distribution \n",
    "train, test = train_test_split(grad_data2, test_size=0.4, stratify = grad_data2['level_4-year']) #splits data into train and test \n",
    "test, val = train_test_split(test, test_size=0.5, stratify=test['level_4-year']) #splits data into test and validate "
   ]
  },
  {
   "cell_type": "code",
   "execution_count": 213,
   "metadata": {},
   "outputs": [
    {
     "data": {
      "text/html": [
       "<div>\n",
       "<style scoped>\n",
       "    .dataframe tbody tr th:only-of-type {\n",
       "        vertical-align: middle;\n",
       "    }\n",
       "\n",
       "    .dataframe tbody tr th {\n",
       "        vertical-align: top;\n",
       "    }\n",
       "\n",
       "    .dataframe thead th {\n",
       "        text-align: right;\n",
       "    }\n",
       "</style>\n",
       "<table border=\"1\" class=\"dataframe\">\n",
       "  <thead>\n",
       "    <tr style=\"text-align: right;\">\n",
       "      <th></th>\n",
       "      <th>awards_per_value</th>\n",
       "      <th>ft_pct</th>\n",
       "      <th>aid_value</th>\n",
       "      <th>grad_100_value</th>\n",
       "      <th>grad_100_percentile</th>\n",
       "      <th>grad_150_value</th>\n",
       "      <th>grad_150_percentile</th>\n",
       "      <th>pell_value</th>\n",
       "      <th>retain_value</th>\n",
       "      <th>ft_fac_value</th>\n",
       "      <th>cohort_size</th>\n",
       "      <th>level_2-year</th>\n",
       "      <th>level_4-year</th>\n",
       "      <th>control_Private for-profit</th>\n",
       "      <th>control_Private not-for-profit</th>\n",
       "      <th>control_Public</th>\n",
       "      <th>hbcu_0</th>\n",
       "      <th>hbcu_1</th>\n",
       "    </tr>\n",
       "  </thead>\n",
       "  <tbody>\n",
       "    <tr>\n",
       "      <th>0</th>\n",
       "      <td>14.2</td>\n",
       "      <td>93.8</td>\n",
       "      <td>-0.182155</td>\n",
       "      <td>10.0</td>\n",
       "      <td>15.0</td>\n",
       "      <td>29.1</td>\n",
       "      <td>14.0</td>\n",
       "      <td>71.2</td>\n",
       "      <td>63.1</td>\n",
       "      <td>82.8</td>\n",
       "      <td>882.0</td>\n",
       "      <td>False</td>\n",
       "      <td>True</td>\n",
       "      <td>False</td>\n",
       "      <td>False</td>\n",
       "      <td>True</td>\n",
       "      <td>False</td>\n",
       "      <td>True</td>\n",
       "    </tr>\n",
       "    <tr>\n",
       "      <th>1</th>\n",
       "      <td>20.9</td>\n",
       "      <td>72.7</td>\n",
       "      <td>-0.340410</td>\n",
       "      <td>29.4</td>\n",
       "      <td>67.0</td>\n",
       "      <td>53.5</td>\n",
       "      <td>66.0</td>\n",
       "      <td>35.1</td>\n",
       "      <td>80.2</td>\n",
       "      <td>92.4</td>\n",
       "      <td>1376.0</td>\n",
       "      <td>False</td>\n",
       "      <td>True</td>\n",
       "      <td>False</td>\n",
       "      <td>False</td>\n",
       "      <td>True</td>\n",
       "      <td>True</td>\n",
       "      <td>False</td>\n",
       "    </tr>\n",
       "    <tr>\n",
       "      <th>2</th>\n",
       "      <td>29.9</td>\n",
       "      <td>62.7</td>\n",
       "      <td>-0.873133</td>\n",
       "      <td>0.0</td>\n",
       "      <td>0.0</td>\n",
       "      <td>66.7</td>\n",
       "      <td>72.0</td>\n",
       "      <td>68.4</td>\n",
       "      <td>37.5</td>\n",
       "      <td>67.2</td>\n",
       "      <td>3.0</td>\n",
       "      <td>False</td>\n",
       "      <td>True</td>\n",
       "      <td>False</td>\n",
       "      <td>True</td>\n",
       "      <td>False</td>\n",
       "      <td>True</td>\n",
       "      <td>False</td>\n",
       "    </tr>\n",
       "    <tr>\n",
       "      <th>3</th>\n",
       "      <td>20.9</td>\n",
       "      <td>74.4</td>\n",
       "      <td>-0.256478</td>\n",
       "      <td>16.5</td>\n",
       "      <td>34.0</td>\n",
       "      <td>48.4</td>\n",
       "      <td>54.0</td>\n",
       "      <td>32.8</td>\n",
       "      <td>81.0</td>\n",
       "      <td>65.5</td>\n",
       "      <td>759.0</td>\n",
       "      <td>False</td>\n",
       "      <td>True</td>\n",
       "      <td>False</td>\n",
       "      <td>False</td>\n",
       "      <td>True</td>\n",
       "      <td>True</td>\n",
       "      <td>False</td>\n",
       "    </tr>\n",
       "    <tr>\n",
       "      <th>4</th>\n",
       "      <td>11.6</td>\n",
       "      <td>91.0</td>\n",
       "      <td>-0.165038</td>\n",
       "      <td>8.8</td>\n",
       "      <td>11.0</td>\n",
       "      <td>25.2</td>\n",
       "      <td>9.0</td>\n",
       "      <td>82.7</td>\n",
       "      <td>62.2</td>\n",
       "      <td>67.0</td>\n",
       "      <td>1351.0</td>\n",
       "      <td>False</td>\n",
       "      <td>True</td>\n",
       "      <td>False</td>\n",
       "      <td>False</td>\n",
       "      <td>True</td>\n",
       "      <td>False</td>\n",
       "      <td>True</td>\n",
       "    </tr>\n",
       "    <tr>\n",
       "      <th>...</th>\n",
       "      <td>...</td>\n",
       "      <td>...</td>\n",
       "      <td>...</td>\n",
       "      <td>...</td>\n",
       "      <td>...</td>\n",
       "      <td>...</td>\n",
       "      <td>...</td>\n",
       "      <td>...</td>\n",
       "      <td>...</td>\n",
       "      <td>...</td>\n",
       "      <td>...</td>\n",
       "      <td>...</td>\n",
       "      <td>...</td>\n",
       "      <td>...</td>\n",
       "      <td>...</td>\n",
       "      <td>...</td>\n",
       "      <td>...</td>\n",
       "      <td>...</td>\n",
       "    </tr>\n",
       "    <tr>\n",
       "      <th>3792</th>\n",
       "      <td>7.6</td>\n",
       "      <td>60.4</td>\n",
       "      <td>-0.547313</td>\n",
       "      <td>0.0</td>\n",
       "      <td>0.0</td>\n",
       "      <td>0.0</td>\n",
       "      <td>0.0</td>\n",
       "      <td>74.4</td>\n",
       "      <td>33.3</td>\n",
       "      <td>28.6</td>\n",
       "      <td>4.0</td>\n",
       "      <td>True</td>\n",
       "      <td>False</td>\n",
       "      <td>False</td>\n",
       "      <td>False</td>\n",
       "      <td>True</td>\n",
       "      <td>True</td>\n",
       "      <td>False</td>\n",
       "    </tr>\n",
       "    <tr>\n",
       "      <th>3793</th>\n",
       "      <td>26.2</td>\n",
       "      <td>34.5</td>\n",
       "      <td>-0.524791</td>\n",
       "      <td>0.0</td>\n",
       "      <td>0.0</td>\n",
       "      <td>0.0</td>\n",
       "      <td>0.0</td>\n",
       "      <td>26.3</td>\n",
       "      <td>33.3</td>\n",
       "      <td>10.7</td>\n",
       "      <td>12.0</td>\n",
       "      <td>False</td>\n",
       "      <td>True</td>\n",
       "      <td>False</td>\n",
       "      <td>True</td>\n",
       "      <td>False</td>\n",
       "      <td>True</td>\n",
       "      <td>False</td>\n",
       "    </tr>\n",
       "    <tr>\n",
       "      <th>3794</th>\n",
       "      <td>16.6</td>\n",
       "      <td>92.1</td>\n",
       "      <td>0.156127</td>\n",
       "      <td>51.5</td>\n",
       "      <td>64.0</td>\n",
       "      <td>51.5</td>\n",
       "      <td>43.0</td>\n",
       "      <td>28.3</td>\n",
       "      <td>74.4</td>\n",
       "      <td>44.4</td>\n",
       "      <td>33.0</td>\n",
       "      <td>False</td>\n",
       "      <td>True</td>\n",
       "      <td>False</td>\n",
       "      <td>True</td>\n",
       "      <td>False</td>\n",
       "      <td>True</td>\n",
       "      <td>False</td>\n",
       "    </tr>\n",
       "    <tr>\n",
       "      <th>3795</th>\n",
       "      <td>55.1</td>\n",
       "      <td>57.0</td>\n",
       "      <td>-0.760372</td>\n",
       "      <td>37.5</td>\n",
       "      <td>82.0</td>\n",
       "      <td>37.5</td>\n",
       "      <td>76.0</td>\n",
       "      <td>53.1</td>\n",
       "      <td>77.8</td>\n",
       "      <td>29.6</td>\n",
       "      <td>8.0</td>\n",
       "      <td>False</td>\n",
       "      <td>True</td>\n",
       "      <td>True</td>\n",
       "      <td>False</td>\n",
       "      <td>False</td>\n",
       "      <td>True</td>\n",
       "      <td>False</td>\n",
       "    </tr>\n",
       "    <tr>\n",
       "      <th>3796</th>\n",
       "      <td>32.8</td>\n",
       "      <td>70.1</td>\n",
       "      <td>-0.738901</td>\n",
       "      <td>42.1</td>\n",
       "      <td>54.0</td>\n",
       "      <td>55.9</td>\n",
       "      <td>39.0</td>\n",
       "      <td>40.8</td>\n",
       "      <td>78.9</td>\n",
       "      <td>42.3</td>\n",
       "      <td>145.0</td>\n",
       "      <td>True</td>\n",
       "      <td>False</td>\n",
       "      <td>True</td>\n",
       "      <td>False</td>\n",
       "      <td>False</td>\n",
       "      <td>True</td>\n",
       "      <td>False</td>\n",
       "    </tr>\n",
       "  </tbody>\n",
       "</table>\n",
       "<p>3371 rows × 18 columns</p>\n",
       "</div>"
      ],
      "text/plain": [
       "      awards_per_value  ft_pct  aid_value  grad_100_value  \\\n",
       "0                 14.2    93.8  -0.182155            10.0   \n",
       "1                 20.9    72.7  -0.340410            29.4   \n",
       "2                 29.9    62.7  -0.873133             0.0   \n",
       "3                 20.9    74.4  -0.256478            16.5   \n",
       "4                 11.6    91.0  -0.165038             8.8   \n",
       "...                ...     ...        ...             ...   \n",
       "3792               7.6    60.4  -0.547313             0.0   \n",
       "3793              26.2    34.5  -0.524791             0.0   \n",
       "3794              16.6    92.1   0.156127            51.5   \n",
       "3795              55.1    57.0  -0.760372            37.5   \n",
       "3796              32.8    70.1  -0.738901            42.1   \n",
       "\n",
       "      grad_100_percentile  grad_150_value  grad_150_percentile  pell_value  \\\n",
       "0                    15.0            29.1                 14.0        71.2   \n",
       "1                    67.0            53.5                 66.0        35.1   \n",
       "2                     0.0            66.7                 72.0        68.4   \n",
       "3                    34.0            48.4                 54.0        32.8   \n",
       "4                    11.0            25.2                  9.0        82.7   \n",
       "...                   ...             ...                  ...         ...   \n",
       "3792                  0.0             0.0                  0.0        74.4   \n",
       "3793                  0.0             0.0                  0.0        26.3   \n",
       "3794                 64.0            51.5                 43.0        28.3   \n",
       "3795                 82.0            37.5                 76.0        53.1   \n",
       "3796                 54.0            55.9                 39.0        40.8   \n",
       "\n",
       "      retain_value  ft_fac_value  cohort_size  level_2-year  level_4-year  \\\n",
       "0             63.1          82.8        882.0         False          True   \n",
       "1             80.2          92.4       1376.0         False          True   \n",
       "2             37.5          67.2          3.0         False          True   \n",
       "3             81.0          65.5        759.0         False          True   \n",
       "4             62.2          67.0       1351.0         False          True   \n",
       "...            ...           ...          ...           ...           ...   \n",
       "3792          33.3          28.6          4.0          True         False   \n",
       "3793          33.3          10.7         12.0         False          True   \n",
       "3794          74.4          44.4         33.0         False          True   \n",
       "3795          77.8          29.6          8.0         False          True   \n",
       "3796          78.9          42.3        145.0          True         False   \n",
       "\n",
       "      control_Private for-profit  control_Private not-for-profit  \\\n",
       "0                          False                           False   \n",
       "1                          False                           False   \n",
       "2                          False                            True   \n",
       "3                          False                           False   \n",
       "4                          False                           False   \n",
       "...                          ...                             ...   \n",
       "3792                       False                           False   \n",
       "3793                       False                            True   \n",
       "3794                       False                            True   \n",
       "3795                        True                           False   \n",
       "3796                        True                           False   \n",
       "\n",
       "      control_Public  hbcu_0  hbcu_1  \n",
       "0               True   False    True  \n",
       "1               True    True   False  \n",
       "2              False    True   False  \n",
       "3               True    True   False  \n",
       "4               True   False    True  \n",
       "...              ...     ...     ...  \n",
       "3792            True    True   False  \n",
       "3793           False    True   False  \n",
       "3794           False    True   False  \n",
       "3795           False    True   False  \n",
       "3796           False    True   False  \n",
       "\n",
       "[3371 rows x 18 columns]"
      ]
     },
     "execution_count": 213,
     "metadata": {},
     "output_type": "execute_result"
    }
   ],
   "source": [
    "grad_data2"
   ]
  },
  {
   "cell_type": "code",
   "execution_count": 224,
   "metadata": {},
   "outputs": [
    {
     "data": {
      "text/plain": [
       "(3371,)"
      ]
     },
     "execution_count": 224,
     "metadata": {},
     "output_type": "execute_result"
    }
   ],
   "source": [
    "#grad_data2['aid_value'].shape \n",
    "grad_data2['level_4-year'].shape"
   ]
  },
  {
   "cell_type": "code",
   "execution_count": 226,
   "metadata": {},
   "outputs": [
    {
     "data": {
      "text/html": [
       "<style>#sk-container-id-1 {color: black;}#sk-container-id-1 pre{padding: 0;}#sk-container-id-1 div.sk-toggleable {background-color: white;}#sk-container-id-1 label.sk-toggleable__label {cursor: pointer;display: block;width: 100%;margin-bottom: 0;padding: 0.3em;box-sizing: border-box;text-align: center;}#sk-container-id-1 label.sk-toggleable__label-arrow:before {content: \"▸\";float: left;margin-right: 0.25em;color: #696969;}#sk-container-id-1 label.sk-toggleable__label-arrow:hover:before {color: black;}#sk-container-id-1 div.sk-estimator:hover label.sk-toggleable__label-arrow:before {color: black;}#sk-container-id-1 div.sk-toggleable__content {max-height: 0;max-width: 0;overflow: hidden;text-align: left;background-color: #f0f8ff;}#sk-container-id-1 div.sk-toggleable__content pre {margin: 0.2em;color: black;border-radius: 0.25em;background-color: #f0f8ff;}#sk-container-id-1 input.sk-toggleable__control:checked~div.sk-toggleable__content {max-height: 200px;max-width: 100%;overflow: auto;}#sk-container-id-1 input.sk-toggleable__control:checked~label.sk-toggleable__label-arrow:before {content: \"▾\";}#sk-container-id-1 div.sk-estimator input.sk-toggleable__control:checked~label.sk-toggleable__label {background-color: #d4ebff;}#sk-container-id-1 div.sk-label input.sk-toggleable__control:checked~label.sk-toggleable__label {background-color: #d4ebff;}#sk-container-id-1 input.sk-hidden--visually {border: 0;clip: rect(1px 1px 1px 1px);clip: rect(1px, 1px, 1px, 1px);height: 1px;margin: -1px;overflow: hidden;padding: 0;position: absolute;width: 1px;}#sk-container-id-1 div.sk-estimator {font-family: monospace;background-color: #f0f8ff;border: 1px dotted black;border-radius: 0.25em;box-sizing: border-box;margin-bottom: 0.5em;}#sk-container-id-1 div.sk-estimator:hover {background-color: #d4ebff;}#sk-container-id-1 div.sk-parallel-item::after {content: \"\";width: 100%;border-bottom: 1px solid gray;flex-grow: 1;}#sk-container-id-1 div.sk-label:hover label.sk-toggleable__label {background-color: #d4ebff;}#sk-container-id-1 div.sk-serial::before {content: \"\";position: absolute;border-left: 1px solid gray;box-sizing: border-box;top: 0;bottom: 0;left: 50%;z-index: 0;}#sk-container-id-1 div.sk-serial {display: flex;flex-direction: column;align-items: center;background-color: white;padding-right: 0.2em;padding-left: 0.2em;position: relative;}#sk-container-id-1 div.sk-item {position: relative;z-index: 1;}#sk-container-id-1 div.sk-parallel {display: flex;align-items: stretch;justify-content: center;background-color: white;position: relative;}#sk-container-id-1 div.sk-item::before, #sk-container-id-1 div.sk-parallel-item::before {content: \"\";position: absolute;border-left: 1px solid gray;box-sizing: border-box;top: 0;bottom: 0;left: 50%;z-index: -1;}#sk-container-id-1 div.sk-parallel-item {display: flex;flex-direction: column;z-index: 1;position: relative;background-color: white;}#sk-container-id-1 div.sk-parallel-item:first-child::after {align-self: flex-end;width: 50%;}#sk-container-id-1 div.sk-parallel-item:last-child::after {align-self: flex-start;width: 50%;}#sk-container-id-1 div.sk-parallel-item:only-child::after {width: 0;}#sk-container-id-1 div.sk-dashed-wrapped {border: 1px dashed gray;margin: 0 0.4em 0.5em 0.4em;box-sizing: border-box;padding-bottom: 0.4em;background-color: white;}#sk-container-id-1 div.sk-label label {font-family: monospace;font-weight: bold;display: inline-block;line-height: 1.2em;}#sk-container-id-1 div.sk-label-container {text-align: center;}#sk-container-id-1 div.sk-container {/* jupyter's `normalize.less` sets `[hidden] { display: none; }` but bootstrap.min.css set `[hidden] { display: none !important; }` so we also need the `!important` here to be able to override the default hidden behavior on the sphinx rendered scikit-learn.org. See: https://github.com/scikit-learn/scikit-learn/issues/21755 */display: inline-block !important;position: relative;}#sk-container-id-1 div.sk-text-repr-fallback {display: none;}</style><div id=\"sk-container-id-1\" class=\"sk-top-container\"><div class=\"sk-text-repr-fallback\"><pre>KNeighborsClassifier(n_neighbors=10)</pre><b>In a Jupyter environment, please rerun this cell to show the HTML representation or trust the notebook. <br />On GitHub, the HTML representation is unable to render, please try loading this page with nbviewer.org.</b></div><div class=\"sk-container\" hidden><div class=\"sk-item\"><div class=\"sk-estimator sk-toggleable\"><input class=\"sk-toggleable__control sk-hidden--visually\" id=\"sk-estimator-id-1\" type=\"checkbox\" checked><label for=\"sk-estimator-id-1\" class=\"sk-toggleable__label sk-toggleable__label-arrow\">KNeighborsClassifier</label><div class=\"sk-toggleable__content\"><pre>KNeighborsClassifier(n_neighbors=10)</pre></div></div></div></div></div>"
      ],
      "text/plain": [
       "KNeighborsClassifier(n_neighbors=10)"
      ]
     },
     "execution_count": 226,
     "metadata": {},
     "output_type": "execute_result"
    }
   ],
   "source": [
    "# train classifier for k=10\n",
    "import random\n",
    "random.seed(4242) #kNN is a random algorithm \n",
    "\n",
    "x_train = train['aid_value'].values.reshape(-1, 1)\n",
    "y_train = train['level_4-year'].values\n",
    "neigh = KNeighborsClassifier(n_neighbors=10)\n",
    "\n",
    "neigh.fit(x_train, y_train)\n"
   ]
  },
  {
   "cell_type": "code",
   "execution_count": 228,
   "metadata": {},
   "outputs": [
    {
     "name": "stdout",
     "output_type": "stream",
     "text": [
      "0.755192878338279\n"
     ]
    }
   ],
   "source": [
    "#check accuracy of kNN = 10 on test data \n",
    "x_test = test['aid_value'].values.reshape(-1, 1)\n",
    "y_test = test['level_4-year'].values\n",
    "print(neigh.score(x_test, y_test))"
   ]
  },
  {
   "cell_type": "code",
   "execution_count": 229,
   "metadata": {},
   "outputs": [
    {
     "name": "stdout",
     "output_type": "stream",
     "text": [
      "0.8044444444444444\n"
     ]
    }
   ],
   "source": [
    "# check accuracy on validation data \n",
    "x_val = val['aid_value'].values.reshape(-1, 1)\n",
    "y_val = val['level_4-year'].values\n",
    "print(neigh.score(x_val, y_val))"
   ]
  },
  {
   "cell_type": "code",
   "execution_count": null,
   "metadata": {},
   "outputs": [],
   "source": [
    "#accuracy at 75.5 for test data \n",
    "#accuracy at 80.44 for validation data "
   ]
  },
  {
   "cell_type": "code",
   "execution_count": 231,
   "metadata": {},
   "outputs": [
    {
     "data": {
      "image/png": "[encoded data removed]",
      "text/plain": [
       "<Figure size 640x480 with 2 Axes>"
      ]
     },
     "metadata": {},
     "output_type": "display_data"
    }
   ],
   "source": [
    "# create confusion matrix\n",
    "y_val_pred = neigh.predict(x_val)\n",
    "from sklearn.metrics import confusion_matrix, ConfusionMatrixDisplay\n",
    "cm = confusion_matrix(y_val,y_val_pred, labels=neigh.classes_)\n",
    "disp=ConfusionMatrixDisplay(confusion_matrix=cm, display_labels=neigh.classes_)\n",
    "disp.plot()\n",
    "plt.show()"
   ]
  },
  {
   "cell_type": "code",
   "execution_count": 232,
   "metadata": {},
   "outputs": [
    {
     "name": "stdout",
     "output_type": "stream",
     "text": [
      "              precision    recall  f1-score   support\n",
      "\n",
      "       False       0.84      0.74      0.79       331\n",
      "        True       0.77      0.87      0.82       344\n",
      "\n",
      "    accuracy                           0.80       675\n",
      "   macro avg       0.81      0.80      0.80       675\n",
      "weighted avg       0.81      0.80      0.80       675\n",
      "\n",
      "0.7746113989637305 0.8442906574394463\n"
     ]
    }
   ],
   "source": [
    "# classification report\n",
    "#TP = 299\n",
    "#TN = 244 \n",
    "#FP = 45 \n",
    "#FN = 87\n",
    "from sklearn.metrics import classification_report\n",
    "\n",
    "print(classification_report(y_val_pred, y_val))\n",
    "\n",
    "sensitivity = 299/(299+87) # = TP/(TP+FN) TP rate \n",
    "specificity = 244/(244+45) # = TN/(TN+FP) TN rate \n",
    "print(sensitivity, specificity)"
   ]
  },
  {
   "cell_type": "code",
   "execution_count": 274,
   "metadata": {},
   "outputs": [],
   "source": [
    "#selecting the right k function \n",
    "\n",
    "def chooseK(k, x_train, y_train, x_test, y_test):\n",
    "    random.seed(1)\n",
    "    print(\"calculating... \", k, \"k\") \n",
    "    class_knn = KNeighborsClassifier(n_neighbors=k)\n",
    "    class_knn.fit(x_train, y_train)\n",
    "    # calculate accuracy\n",
    "    accu = class_knn.score(x_test, y_test)\n",
    "    return accu"
   ]
  },
  {
   "cell_type": "code",
   "execution_count": 245,
   "metadata": {},
   "outputs": [
    {
     "name": "stdout",
     "output_type": "stream",
     "text": [
      "calculating...  1 k\n",
      "calculating...  3 k\n",
      "calculating...  5 k\n",
      "calculating...  7 k\n",
      "calculating...  9 k\n",
      "calculating...  11 k\n",
      "calculating...  13 k\n",
      "calculating...  15 k\n",
      "calculating...  17 k\n",
      "calculating...  19 k\n",
      "calculating...  21 k\n",
      "calculating...  23 k\n",
      "calculating...  25 k\n",
      "calculating...  27 k\n",
      "calculating...  29 k\n",
      "calculating...  31 k\n",
      "calculating...  33 k\n",
      "calculating...  35 k\n",
      "calculating...  37 k\n",
      "calculating...  39 k\n",
      "calculating...  41 k\n",
      "calculating...  43 k\n",
      "calculating...  45 k\n",
      "calculating...  47 k\n",
      "calculating...  49 k\n"
     ]
    }
   ],
   "source": [
    "#testing k values from 1 to 50\n",
    "test = pd.DataFrame({'k':list(range(1,51,2)),'accu':[chooseK(i, x_train, y_train, x_test, y_test) for i in list(range(1, 51, 2))]})"
   ]
  },
  {
   "cell_type": "code",
   "execution_count": 246,
   "metadata": {},
   "outputs": [
    {
     "name": "stdout",
     "output_type": "stream",
     "text": [
      "   k      accu\n",
      "0  1  0.734421\n",
      "1  3  0.755193\n",
      "2  5  0.759644\n",
      "3  7  0.770030\n",
      "4  9  0.761128\n"
     ]
    }
   ],
   "source": [
    "#k value results \n",
    "print(test.head())"
   ]
  },
  {
   "cell_type": "code",
   "execution_count": 248,
   "metadata": {},
   "outputs": [
    {
     "name": "stdout",
     "output_type": "stream",
     "text": [
      "     k      accu\n",
      "15  31  0.801187\n",
      "17  35  0.799703\n",
      "16  33  0.799703\n",
      "21  43  0.798220\n",
      "19  39  0.798220\n"
     ]
    }
   ],
   "source": [
    "#optimal k value is 31\n",
    "test = test.sort_values(by=['accu'], ascending=False)\n",
    "print(test.head())"
   ]
  },
  {
   "cell_type": "code",
   "execution_count": 250,
   "metadata": {},
   "outputs": [
    {
     "data": {
      "image/png": "[encoded data removed]",
      "text/plain": [
       "<Figure size 640x480 with 1 Axes>"
      ]
     },
     "metadata": {},
     "output_type": "display_data"
    }
   ],
   "source": [
    "#plotting k accuracies \n",
    "plt.plot(test['k'], test['accu'])\n",
    "plt.xlabel('k')\n",
    "plt.ylabel('Accuracy')\n",
    "plt.title('Model Accuracy')\n",
    "plt.show()"
   ]
  },
  {
   "cell_type": "code",
   "execution_count": 252,
   "metadata": {},
   "outputs": [
    {
     "data": {
      "text/html": [
       "<div>\n",
       "<style scoped>\n",
       "    .dataframe tbody tr th:only-of-type {\n",
       "        vertical-align: middle;\n",
       "    }\n",
       "\n",
       "    .dataframe tbody tr th {\n",
       "        vertical-align: top;\n",
       "    }\n",
       "\n",
       "    .dataframe thead th {\n",
       "        text-align: right;\n",
       "    }\n",
       "</style>\n",
       "<table border=\"1\" class=\"dataframe\">\n",
       "  <thead>\n",
       "    <tr style=\"text-align: right;\">\n",
       "      <th></th>\n",
       "      <th>level_2-year</th>\n",
       "      <th>level_4-year</th>\n",
       "    </tr>\n",
       "  </thead>\n",
       "  <tbody>\n",
       "    <tr>\n",
       "      <th>0</th>\n",
       "      <td>0.5</td>\n",
       "      <td>0.5</td>\n",
       "    </tr>\n",
       "    <tr>\n",
       "      <th>1</th>\n",
       "      <td>0.9</td>\n",
       "      <td>0.1</td>\n",
       "    </tr>\n",
       "    <tr>\n",
       "      <th>2</th>\n",
       "      <td>0.0</td>\n",
       "      <td>1.0</td>\n",
       "    </tr>\n",
       "    <tr>\n",
       "      <th>3</th>\n",
       "      <td>0.0</td>\n",
       "      <td>1.0</td>\n",
       "    </tr>\n",
       "    <tr>\n",
       "      <th>4</th>\n",
       "      <td>0.7</td>\n",
       "      <td>0.3</td>\n",
       "    </tr>\n",
       "  </tbody>\n",
       "</table>\n",
       "</div>"
      ],
      "text/plain": [
       "   level_2-year  level_4-year\n",
       "0           0.5           0.5\n",
       "1           0.9           0.1\n",
       "2           0.0           1.0\n",
       "3           0.0           1.0\n",
       "4           0.7           0.3"
      ]
     },
     "execution_count": 252,
     "metadata": {},
     "output_type": "execute_result"
    }
   ],
   "source": [
    "#predictions for each sample\n",
    "test_probs = neigh.predict_proba(x_test) #x_test = test['aid_value'].values.reshape(-1, 1)\n",
    "test_preds = neigh.predict(x_test)\n",
    "\n",
    "# convert probabilities to pd df\n",
    "test_probabilities = pd.DataFrame(test_probs, columns = ['level_2-year','level_4-year'])\n",
    "test_probabilities.head()"
   ]
  },
  {
   "cell_type": "code",
   "execution_count": 253,
   "metadata": {},
   "outputs": [
    {
     "data": {
      "text/html": [
       "<div>\n",
       "<style scoped>\n",
       "    .dataframe tbody tr th:only-of-type {\n",
       "        vertical-align: middle;\n",
       "    }\n",
       "\n",
       "    .dataframe tbody tr th {\n",
       "        vertical-align: top;\n",
       "    }\n",
       "\n",
       "    .dataframe thead th {\n",
       "        text-align: right;\n",
       "    }\n",
       "</style>\n",
       "<table border=\"1\" class=\"dataframe\">\n",
       "  <thead>\n",
       "    <tr style=\"text-align: right;\">\n",
       "      <th></th>\n",
       "      <th>actual_class</th>\n",
       "      <th>pred_class</th>\n",
       "      <th>pred_prob</th>\n",
       "    </tr>\n",
       "  </thead>\n",
       "  <tbody>\n",
       "    <tr>\n",
       "      <th>0</th>\n",
       "      <td>False</td>\n",
       "      <td>False</td>\n",
       "      <td>0.5</td>\n",
       "    </tr>\n",
       "    <tr>\n",
       "      <th>1</th>\n",
       "      <td>False</td>\n",
       "      <td>False</td>\n",
       "      <td>0.1</td>\n",
       "    </tr>\n",
       "    <tr>\n",
       "      <th>2</th>\n",
       "      <td>False</td>\n",
       "      <td>True</td>\n",
       "      <td>1.0</td>\n",
       "    </tr>\n",
       "    <tr>\n",
       "      <th>3</th>\n",
       "      <td>True</td>\n",
       "      <td>True</td>\n",
       "      <td>1.0</td>\n",
       "    </tr>\n",
       "    <tr>\n",
       "      <th>4</th>\n",
       "      <td>False</td>\n",
       "      <td>False</td>\n",
       "      <td>0.3</td>\n",
       "    </tr>\n",
       "  </tbody>\n",
       "</table>\n",
       "</div>"
      ],
      "text/plain": [
       "   actual_class  pred_class  pred_prob\n",
       "0         False       False        0.5\n",
       "1         False       False        0.1\n",
       "2         False        True        1.0\n",
       "3          True        True        1.0\n",
       "4         False       False        0.3"
      ]
     },
     "execution_count": 253,
     "metadata": {},
     "output_type": "execute_result"
    }
   ],
   "source": [
    "#actual class, predicted class, and predicted class probabilities in a df \n",
    "final_model = pd.DataFrame({'actual_class': y_test.tolist(),\n",
    "'pred_class': test_preds.tolist(),\n",
    "'pred_prob': test_probabilities['level_4-year']})\n",
    "final_model.head()"
   ]
  },
  {
   "cell_type": "code",
   "execution_count": 254,
   "metadata": {},
   "outputs": [],
   "source": [
    "# convert classes to categories\n",
    "final_model.actual_class = final_model.actual_class.astype('category')\n",
    "final_model.pred_class = final_model.pred_class.astype('category')"
   ]
  },
  {
   "cell_type": "code",
   "execution_count": 255,
   "metadata": {},
   "outputs": [
    {
     "data": {
      "text/plain": [
       "<seaborn.axisgrid.FacetGrid at 0x194ae37ff50>"
      ]
     },
     "execution_count": 255,
     "metadata": {},
     "output_type": "execute_result"
    },
    {
     "data": {
      "image/png": "[encoded data removed]",
      "text/plain": [
       "<Figure size 500x500 with 1 Axes>"
      ]
     },
     "metadata": {},
     "output_type": "display_data"
    }
   ],
   "source": [
    "# probability distribution graph \n",
    "sns.displot(final_model, x=\"pred_prob\", kind=\"kde\")"
   ]
  },
  {
   "cell_type": "code",
   "execution_count": 256,
   "metadata": {},
   "outputs": [
    {
     "name": "stdout",
     "output_type": "stream",
     "text": [
      "pred_prob\n",
      "1.0    185\n",
      "0.2     96\n",
      "0.1     62\n",
      "0.3     60\n",
      "0.5     52\n",
      "0.6     49\n",
      "0.7     44\n",
      "0.9     38\n",
      "0.8     35\n",
      "0.4     34\n",
      "0.0     19\n",
      "Name: count, dtype: int64\n"
     ]
    }
   ],
   "source": [
    "#how many predictions for each probability \n",
    "print(final_model.pred_prob.value_counts())"
   ]
  },
  {
   "cell_type": "code",
   "execution_count": 257,
   "metadata": {},
   "outputs": [],
   "source": [
    "#function to adjust thresholds \n",
    "def adjust_thres(x, y, z):\n",
    "    \"\"\"\n",
    "    x=pred_probabilities\n",
    "    y=threshold\n",
    "    z=tune_outcome\n",
    "    \"\"\"\n",
    "    thres = pd.DataFrame({'new_preds': [1 if i > y else 0 for i in x]})\n",
    "    thres.new_preds = thres.new_preds.astype('category')\n",
    "    con_mat = confusion_matrix(z, thres)\n",
    "    print(con_mat)"
   ]
  },
  {
   "cell_type": "code",
   "execution_count": 258,
   "metadata": {},
   "outputs": [
    {
     "data": {
      "text/plain": [
       "array([[223,  65],\n",
       "       [100, 286]], dtype=int64)"
      ]
     },
     "execution_count": 258,
     "metadata": {},
     "output_type": "execute_result"
    }
   ],
   "source": [
    "# confusion matrix for original model \n",
    "# [[True Negatives (TN), False Positives (FP)],\n",
    "# [False Negatives (FN), True Positives (TP)]]\n",
    "confusion_matrix(final_model.actual_class, final_model.pred_class) "
   ]
  },
  {
   "cell_type": "code",
   "execution_count": 273,
   "metadata": {},
   "outputs": [
    {
     "name": "stdout",
     "output_type": "stream",
     "text": [
      "[[284   4]\n",
      " [205 181]]\n",
      "[[248  40]\n",
      " [124 262]]\n"
     ]
    }
   ],
   "source": [
    "#testing thresholds \n",
    "# if the predicted probability for the positive class is greater than or equal to 0.5, the data point is classified as the positive class; otherwise, it's classified as the negative class\n",
    "adjust_thres(final_model.pred_prob, .90, final_model.actual_class) # raise threshold\n",
    "\n",
    "adjust_thres(final_model.pred_prob, .60, final_model.actual_class) # lower threshold"
   ]
  },
  {
   "cell_type": "code",
   "execution_count": 261,
   "metadata": {},
   "outputs": [],
   "source": [
    "# with .80 threshold, results were \n",
    "#[[278   10]\n",
    "# [173 213]]\n",
    "\n",
    "# a difference was made .90 threshold was reached, but no difference was made between .80 and .89\n",
    "#[[283   5]\n",
    "# [188 198]]\n",
    "\n",
    "# with .40 threshold results were\n",
    "#[[202  86]\n",
    "# [69 317]]\n",
    "\n",
    "# with .60 threshold results were\n",
    "#[[248  40]\n",
    "# [124 262]]\n",
    "\n",
    "#the default threshold (a threshold of .50) looks to have a relatively high distribution of both TP and TN \n",
    "# [[223  65]\n",
    "# [100 286]]\n",
    "\n",
    "# IThere is a relationship between aid value and 4-year institutions. I originally thought that there would be greater aid value given in 4-year institutions becuase more years = more aid. While that is typically true, I believe there are other variables that have a more direct relationship with determining a 2-year or 4-year institution such as student population.\n"
   ]
  }
 ],
 "metadata": {
  "kernelspec": {
   "display_name": "base",
   "language": "python",
   "name": "python3"
  },
  "language_info": {
   "codemirror_mode": {
    "name": "ipython",
    "version": 3
   },
   "file_extension": ".py",
   "mimetype": "text/x-python",
   "name": "python",
   "nbconvert_exporter": "python",
   "pygments_lexer": "ipython3",
   "version": "3.11.5"
  },
  "orig_nbformat": 4
 },
 "nbformat": 4,
 "nbformat_minor": 2
}
